{
  "nbformat": 4,
  "nbformat_minor": 0,
  "metadata": {
    "colab": {
      "provenance": [],
      "authorship_tag": "ABX9TyN2ygdVxpNdub9e8lb/iq9v",
      "include_colab_link": true
    },
    "kernelspec": {
      "name": "python3",
      "display_name": "Python 3"
    },
    "language_info": {
      "name": "python"
    }
  },
  "cells": [
    {
      "cell_type": "markdown",
      "metadata": {
        "id": "view-in-github",
        "colab_type": "text"
      },
      "source": [
        "<a href=\"https://colab.research.google.com/github/julianogueira3/Cinema/blob/main/An%C3%A1liseExploratoria.ipynb\" target=\"_parent\"><img src=\"https://colab.research.google.com/assets/colab-badge.svg\" alt=\"Open In Colab\"/></a>"
      ]
    },
    {
      "cell_type": "code",
      "execution_count": 1,
      "metadata": {
        "id": "6eZd49bh1SwS"
      },
      "outputs": [],
      "source": [
        "import pandas as pd\n",
        "import numpy as np\n",
        "import matplotlib.pyplot as plt\n",
        "\n",
        "Data  = pd.read_csv('sensor_readings_2.data',delimiter = ',')\n"
      ]
    },
    {
      "cell_type": "code",
      "source": [
        "print(type(Data))"
      ],
      "metadata": {
        "colab": {
          "base_uri": "https://localhost:8080/"
        },
        "id": "fAFb2At114rM",
        "outputId": "186d4145-6d6a-4e3d-8d93-b3971e73ed45"
      },
      "execution_count": 2,
      "outputs": [
        {
          "output_type": "stream",
          "name": "stdout",
          "text": [
            "<class 'pandas.core.frame.DataFrame'>\n"
          ]
        }
      ]
    },
    {
      "cell_type": "code",
      "source": [
        "print(dir(Data))"
      ],
      "metadata": {
        "colab": {
          "base_uri": "https://localhost:8080/"
        },
        "id": "spH7arJ12IeE",
        "outputId": "371f22f3-1c97-4b95-d626-4d4ec38ef873"
      },
      "execution_count": 3,
      "outputs": [
        {
          "output_type": "stream",
          "name": "stdout",
          "text": [
            "['T', '_AXIS_LEN', '_AXIS_ORDERS', '_AXIS_REVERSED', '_AXIS_TO_AXIS_NUMBER', '_HANDLED_TYPES', '__abs__', '__add__', '__and__', '__annotations__', '__array__', '__array_priority__', '__array_ufunc__', '__array_wrap__', '__bool__', '__class__', '__contains__', '__copy__', '__deepcopy__', '__delattr__', '__delitem__', '__dict__', '__dir__', '__divmod__', '__doc__', '__eq__', '__finalize__', '__floordiv__', '__format__', '__ge__', '__getattr__', '__getattribute__', '__getitem__', '__getstate__', '__gt__', '__hash__', '__iadd__', '__iand__', '__ifloordiv__', '__imod__', '__imul__', '__init__', '__init_subclass__', '__invert__', '__ior__', '__ipow__', '__isub__', '__iter__', '__itruediv__', '__ixor__', '__le__', '__len__', '__lt__', '__matmul__', '__mod__', '__module__', '__mul__', '__ne__', '__neg__', '__new__', '__nonzero__', '__or__', '__pos__', '__pow__', '__radd__', '__rand__', '__rdivmod__', '__reduce__', '__reduce_ex__', '__repr__', '__rfloordiv__', '__rmatmul__', '__rmod__', '__rmul__', '__ror__', '__round__', '__rpow__', '__rsub__', '__rtruediv__', '__rxor__', '__setattr__', '__setitem__', '__setstate__', '__sizeof__', '__str__', '__sub__', '__subclasshook__', '__truediv__', '__weakref__', '__xor__', '_accessors', '_accum_func', '_add_numeric_operations', '_agg_by_level', '_agg_examples_doc', '_agg_summary_and_see_also_doc', '_align_frame', '_align_series', '_arith_method', '_as_manager', '_attrs', '_box_col_values', '_can_fast_transpose', '_check_inplace_and_allows_duplicate_labels', '_check_inplace_setting', '_check_is_chained_assignment_possible', '_check_label_or_level_ambiguity', '_check_setitem_copy', '_clear_item_cache', '_clip_with_one_bound', '_clip_with_scalar', '_cmp_method', '_combine_frame', '_consolidate', '_consolidate_inplace', '_construct_axes_dict', '_construct_axes_from_arguments', '_construct_result', '_constructor', '_constructor_sliced', '_convert', '_count_level', '_data', '_dir_additions', '_dir_deletions', '_dispatch_frame_op', '_drop_axis', '_drop_labels_or_levels', '_ensure_valid_index', '_find_valid_index', '_flags', '_from_arrays', '_from_mgr', '_get_agg_axis', '_get_axis', '_get_axis_name', '_get_axis_number', '_get_axis_resolvers', '_get_block_manager_axis', '_get_bool_data', '_get_cleaned_column_resolvers', '_get_column_array', '_get_index_resolvers', '_get_item_cache', '_get_label_or_level_values', '_get_numeric_data', '_get_value', '_getitem_bool_array', '_getitem_multilevel', '_gotitem', '_hidden_attrs', '_indexed_same', '_info_axis', '_info_axis_name', '_info_axis_number', '_info_repr', '_init_mgr', '_inplace_method', '_internal_names', '_internal_names_set', '_is_copy', '_is_homogeneous_type', '_is_label_or_level_reference', '_is_label_reference', '_is_level_reference', '_is_mixed_type', '_is_view', '_iset_item', '_iset_item_mgr', '_iset_not_inplace', '_item_cache', '_iter_column_arrays', '_ixs', '_join_compat', '_logical_func', '_logical_method', '_maybe_cache_changed', '_maybe_update_cacher', '_metadata', '_mgr', '_min_count_stat_function', '_needs_reindex_multi', '_protect_consolidate', '_reduce', '_reindex_axes', '_reindex_columns', '_reindex_index', '_reindex_multi', '_reindex_with_indexers', '_replace_columnwise', '_repr_data_resource_', '_repr_fits_horizontal_', '_repr_fits_vertical_', '_repr_html_', '_repr_latex_', '_reset_cache', '_reset_cacher', '_sanitize_column', '_series', '_set_axis', '_set_axis_name', '_set_axis_nocheck', '_set_is_copy', '_set_item', '_set_item_frame_value', '_set_item_mgr', '_set_value', '_setitem_array', '_setitem_frame', '_setitem_slice', '_slice', '_stat_axis', '_stat_axis_name', '_stat_axis_number', '_stat_function', '_stat_function_ddof', '_take_with_is_copy', '_to_dict_of_blocks', '_typ', '_update_inplace', '_validate_dtype', '_values', '_where', 'abs', 'add', 'add_prefix', 'add_suffix', 'agg', 'aggregate', 'align', 'all', 'any', 'append', 'apply', 'applymap', 'asfreq', 'asof', 'assign', 'astype', 'at', 'at_time', 'attrs', 'axes', 'backfill', 'between_time', 'bfill', 'bool', 'boxplot', 'clip', 'columns', 'combine', 'combine_first', 'compare', 'convert_dtypes', 'copy', 'corr', 'corrwith', 'count', 'cov', 'cummax', 'cummin', 'cumprod', 'cumsum', 'describe', 'diff', 'div', 'divide', 'dot', 'drop', 'drop_duplicates', 'droplevel', 'dropna', 'dtypes', 'duplicated', 'empty', 'eq', 'equals', 'eval', 'ewm', 'expanding', 'explode', 'ffill', 'fillna', 'filter', 'first', 'first_valid_index', 'flags', 'floordiv', 'from_dict', 'from_records', 'ge', 'get', 'groupby', 'gt', 'head', 'hist', 'iat', 'idxmax', 'idxmin', 'iloc', 'index', 'infer_objects', 'info', 'insert', 'interpolate', 'isin', 'isna', 'isnull', 'items', 'iteritems', 'iterrows', 'itertuples', 'join', 'keys', 'kurt', 'kurtosis', 'last', 'last_valid_index', 'le', 'loc', 'lookup', 'lt', 'mad', 'mask', 'max', 'mean', 'median', 'melt', 'memory_usage', 'merge', 'min', 'mod', 'mode', 'mul', 'multiply', 'ndim', 'ne', 'nlargest', 'notna', 'notnull', 'nsmallest', 'nunique', 'pad', 'pct_change', 'pipe', 'pivot', 'pivot_table', 'plot', 'pop', 'pow', 'prod', 'product', 'quantile', 'query', 'radd', 'rank', 'rdiv', 'reindex', 'reindex_like', 'rename', 'rename_axis', 'reorder_levels', 'replace', 'resample', 'reset_index', 'rfloordiv', 'rmod', 'rmul', 'rolling', 'round', 'rpow', 'rsub', 'rtruediv', 'sample', 'select_dtypes', 'sem', 'set_axis', 'set_flags', 'set_index', 'shape', 'shift', 'size', 'skew', 'slice_shift', 'sort_index', 'sort_values', 'squeeze', 'stack', 'std', 'style', 'sub', 'subtract', 'sum', 'swapaxes', 'swaplevel', 'tail', 'take', 'to_clipboard', 'to_csv', 'to_dict', 'to_excel', 'to_feather', 'to_gbq', 'to_hdf', 'to_html', 'to_json', 'to_latex', 'to_markdown', 'to_numpy', 'to_parquet', 'to_period', 'to_pickle', 'to_records', 'to_sql', 'to_stata', 'to_string', 'to_timestamp', 'to_xarray', 'to_xml', 'transform', 'transpose', 'truediv', 'truncate', 'tz_convert', 'tz_localize', 'unstack', 'update', 'value_counts', 'values', 'var', 'where', 'xs']\n"
          ]
        }
      ]
    },
    {
      "cell_type": "code",
      "source": [
        "print(Data.ndim)"
      ],
      "metadata": {
        "colab": {
          "base_uri": "https://localhost:8080/"
        },
        "id": "s1-p1mB-2Iuz",
        "outputId": "bb90c919-1a53-44c5-d8f3-786a10e79575"
      },
      "execution_count": 4,
      "outputs": [
        {
          "output_type": "stream",
          "name": "stdout",
          "text": [
            "2\n"
          ]
        }
      ]
    },
    {
      "cell_type": "code",
      "source": [
        "print(Data.shape)"
      ],
      "metadata": {
        "colab": {
          "base_uri": "https://localhost:8080/"
        },
        "id": "J10QZRwh2JGL",
        "outputId": "6440ea73-75b4-4d4d-eaaa-ed37be1e5270"
      },
      "execution_count": 5,
      "outputs": [
        {
          "output_type": "stream",
          "name": "stdout",
          "text": [
            "(5455, 3)\n"
          ]
        }
      ]
    },
    {
      "cell_type": "code",
      "source": [
        "print(Data.mean())"
      ],
      "metadata": {
        "colab": {
          "base_uri": "https://localhost:8080/"
        },
        "id": "yEXCqbsW2bLj",
        "outputId": "20dffc54-1521-40fe-be62-d630494c0e36"
      },
      "execution_count": 6,
      "outputs": [
        {
          "output_type": "stream",
          "name": "stdout",
          "text": [
            "1.687    1.290234\n",
            "0.445    0.681313\n",
            "dtype: float64\n"
          ]
        },
        {
          "output_type": "stream",
          "name": "stderr",
          "text": [
            "<ipython-input-6-3df29133da6e>:1: FutureWarning: Dropping of nuisance columns in DataFrame reductions (with 'numeric_only=None') is deprecated; in a future version this will raise TypeError.  Select only valid columns before calling the reduction.\n",
            "  print(Data.mean())\n"
          ]
        }
      ]
    },
    {
      "cell_type": "code",
      "source": [
        "print(Data.min())"
      ],
      "metadata": {
        "colab": {
          "base_uri": "https://localhost:8080/"
        },
        "id": "fYKbh9BJ2dxC",
        "outputId": "0eb1f97b-2e16-44b8-8529-592795309708"
      },
      "execution_count": 7,
      "outputs": [
        {
          "output_type": "stream",
          "name": "stdout",
          "text": [
            "1.687                       0.495\n",
            "0.445                        0.34\n",
            "Slight-Right-Turn    Move-Forward\n",
            "dtype: object\n"
          ]
        }
      ]
    },
    {
      "cell_type": "code",
      "source": [
        "print(Data.T)"
      ],
      "metadata": {
        "colab": {
          "base_uri": "https://localhost:8080/"
        },
        "id": "PkjBdd1K2d4Z",
        "outputId": "d0101779-0f71-42ad-acef-d97d7158cf81"
      },
      "execution_count": 8,
      "outputs": [
        {
          "output_type": "stream",
          "name": "stdout",
          "text": [
            "                                0                  1                  2     \\\n",
            "1.687                          1.687              1.687              1.687   \n",
            "0.445                          0.449              0.449              0.449   \n",
            "Slight-Right-Turn  Slight-Right-Turn  Slight-Right-Turn  Slight-Right-Turn   \n",
            "\n",
            "                                3                  4                  5     \\\n",
            "1.687                          1.687              1.686              1.684   \n",
            "0.445                          0.449              0.446              0.451   \n",
            "Slight-Right-Turn  Slight-Right-Turn  Slight-Right-Turn  Slight-Right-Turn   \n",
            "\n",
            "                                6                 7                 8     \\\n",
            "1.687                           1.68             0.753             0.744   \n",
            "0.445                          0.453             0.457             0.462   \n",
            "Slight-Right-Turn  Slight-Right-Turn  Sharp-Right-Turn  Sharp-Right-Turn   \n",
            "\n",
            "                               9     ...          5445          5446  \\\n",
            "1.687                         0.735  ...         1.116         1.098   \n",
            "0.445                         0.467  ...         0.692         0.686   \n",
            "Slight-Right-Turn  Sharp-Right-Turn  ...  Move-Forward  Move-Forward   \n",
            "\n",
            "                           5447          5448          5449          5450  \\\n",
            "1.687                      1.08         1.062         1.043         1.024   \n",
            "0.445                     0.678         0.672         0.665         0.657   \n",
            "Slight-Right-Turn  Move-Forward  Move-Forward  Move-Forward  Move-Forward   \n",
            "\n",
            "                               5451              5452          5453  \\\n",
            "1.687                         0.894             0.873         0.967   \n",
            "0.445                         0.649             0.642         0.635   \n",
            "Slight-Right-Turn  Sharp-Right-Turn  Sharp-Right-Turn  Move-Forward   \n",
            "\n",
            "                               5454  \n",
            "1.687                         0.854  \n",
            "0.445                         0.628  \n",
            "Slight-Right-Turn  Sharp-Right-Turn  \n",
            "\n",
            "[3 rows x 5455 columns]\n"
          ]
        }
      ]
    },
    {
      "cell_type": "code",
      "source": [
        "Data.T"
      ],
      "metadata": {
        "colab": {
          "base_uri": "https://localhost:8080/",
          "height": 272
        },
        "id": "dSjPTVAX2d_K",
        "outputId": "0fa9660e-8e8e-4728-adb4-fd78ae8d9074"
      },
      "execution_count": 9,
      "outputs": [
        {
          "output_type": "execute_result",
          "data": {
            "text/plain": [
              "                                0                  1                  2     \\\n",
              "1.687                          1.687              1.687              1.687   \n",
              "0.445                          0.449              0.449              0.449   \n",
              "Slight-Right-Turn  Slight-Right-Turn  Slight-Right-Turn  Slight-Right-Turn   \n",
              "\n",
              "                                3                  4                  5     \\\n",
              "1.687                          1.687              1.686              1.684   \n",
              "0.445                          0.449              0.446              0.451   \n",
              "Slight-Right-Turn  Slight-Right-Turn  Slight-Right-Turn  Slight-Right-Turn   \n",
              "\n",
              "                                6                 7                 8     \\\n",
              "1.687                           1.68             0.753             0.744   \n",
              "0.445                          0.453             0.457             0.462   \n",
              "Slight-Right-Turn  Slight-Right-Turn  Sharp-Right-Turn  Sharp-Right-Turn   \n",
              "\n",
              "                               9     ...          5445          5446  \\\n",
              "1.687                         0.735  ...         1.116         1.098   \n",
              "0.445                         0.467  ...         0.692         0.686   \n",
              "Slight-Right-Turn  Sharp-Right-Turn  ...  Move-Forward  Move-Forward   \n",
              "\n",
              "                           5447          5448          5449          5450  \\\n",
              "1.687                      1.08         1.062         1.043         1.024   \n",
              "0.445                     0.678         0.672         0.665         0.657   \n",
              "Slight-Right-Turn  Move-Forward  Move-Forward  Move-Forward  Move-Forward   \n",
              "\n",
              "                               5451              5452          5453  \\\n",
              "1.687                         0.894             0.873         0.967   \n",
              "0.445                         0.649             0.642         0.635   \n",
              "Slight-Right-Turn  Sharp-Right-Turn  Sharp-Right-Turn  Move-Forward   \n",
              "\n",
              "                               5454  \n",
              "1.687                         0.854  \n",
              "0.445                         0.628  \n",
              "Slight-Right-Turn  Sharp-Right-Turn  \n",
              "\n",
              "[3 rows x 5455 columns]"
            ],
            "text/html": [
              "\n",
              "  <div id=\"df-f5e77056-527f-4897-b78b-69d0b64fc8a9\">\n",
              "    <div class=\"colab-df-container\">\n",
              "      <div>\n",
              "<style scoped>\n",
              "    .dataframe tbody tr th:only-of-type {\n",
              "        vertical-align: middle;\n",
              "    }\n",
              "\n",
              "    .dataframe tbody tr th {\n",
              "        vertical-align: top;\n",
              "    }\n",
              "\n",
              "    .dataframe thead th {\n",
              "        text-align: right;\n",
              "    }\n",
              "</style>\n",
              "<table border=\"1\" class=\"dataframe\">\n",
              "  <thead>\n",
              "    <tr style=\"text-align: right;\">\n",
              "      <th></th>\n",
              "      <th>0</th>\n",
              "      <th>1</th>\n",
              "      <th>2</th>\n",
              "      <th>3</th>\n",
              "      <th>4</th>\n",
              "      <th>5</th>\n",
              "      <th>6</th>\n",
              "      <th>7</th>\n",
              "      <th>8</th>\n",
              "      <th>9</th>\n",
              "      <th>...</th>\n",
              "      <th>5445</th>\n",
              "      <th>5446</th>\n",
              "      <th>5447</th>\n",
              "      <th>5448</th>\n",
              "      <th>5449</th>\n",
              "      <th>5450</th>\n",
              "      <th>5451</th>\n",
              "      <th>5452</th>\n",
              "      <th>5453</th>\n",
              "      <th>5454</th>\n",
              "    </tr>\n",
              "  </thead>\n",
              "  <tbody>\n",
              "    <tr>\n",
              "      <th>1.687</th>\n",
              "      <td>1.687</td>\n",
              "      <td>1.687</td>\n",
              "      <td>1.687</td>\n",
              "      <td>1.687</td>\n",
              "      <td>1.686</td>\n",
              "      <td>1.684</td>\n",
              "      <td>1.68</td>\n",
              "      <td>0.753</td>\n",
              "      <td>0.744</td>\n",
              "      <td>0.735</td>\n",
              "      <td>...</td>\n",
              "      <td>1.116</td>\n",
              "      <td>1.098</td>\n",
              "      <td>1.08</td>\n",
              "      <td>1.062</td>\n",
              "      <td>1.043</td>\n",
              "      <td>1.024</td>\n",
              "      <td>0.894</td>\n",
              "      <td>0.873</td>\n",
              "      <td>0.967</td>\n",
              "      <td>0.854</td>\n",
              "    </tr>\n",
              "    <tr>\n",
              "      <th>0.445</th>\n",
              "      <td>0.449</td>\n",
              "      <td>0.449</td>\n",
              "      <td>0.449</td>\n",
              "      <td>0.449</td>\n",
              "      <td>0.446</td>\n",
              "      <td>0.451</td>\n",
              "      <td>0.453</td>\n",
              "      <td>0.457</td>\n",
              "      <td>0.462</td>\n",
              "      <td>0.467</td>\n",
              "      <td>...</td>\n",
              "      <td>0.692</td>\n",
              "      <td>0.686</td>\n",
              "      <td>0.678</td>\n",
              "      <td>0.672</td>\n",
              "      <td>0.665</td>\n",
              "      <td>0.657</td>\n",
              "      <td>0.649</td>\n",
              "      <td>0.642</td>\n",
              "      <td>0.635</td>\n",
              "      <td>0.628</td>\n",
              "    </tr>\n",
              "    <tr>\n",
              "      <th>Slight-Right-Turn</th>\n",
              "      <td>Slight-Right-Turn</td>\n",
              "      <td>Slight-Right-Turn</td>\n",
              "      <td>Slight-Right-Turn</td>\n",
              "      <td>Slight-Right-Turn</td>\n",
              "      <td>Slight-Right-Turn</td>\n",
              "      <td>Slight-Right-Turn</td>\n",
              "      <td>Slight-Right-Turn</td>\n",
              "      <td>Sharp-Right-Turn</td>\n",
              "      <td>Sharp-Right-Turn</td>\n",
              "      <td>Sharp-Right-Turn</td>\n",
              "      <td>...</td>\n",
              "      <td>Move-Forward</td>\n",
              "      <td>Move-Forward</td>\n",
              "      <td>Move-Forward</td>\n",
              "      <td>Move-Forward</td>\n",
              "      <td>Move-Forward</td>\n",
              "      <td>Move-Forward</td>\n",
              "      <td>Sharp-Right-Turn</td>\n",
              "      <td>Sharp-Right-Turn</td>\n",
              "      <td>Move-Forward</td>\n",
              "      <td>Sharp-Right-Turn</td>\n",
              "    </tr>\n",
              "  </tbody>\n",
              "</table>\n",
              "<p>3 rows × 5455 columns</p>\n",
              "</div>\n",
              "      <button class=\"colab-df-convert\" onclick=\"convertToInteractive('df-f5e77056-527f-4897-b78b-69d0b64fc8a9')\"\n",
              "              title=\"Convert this dataframe to an interactive table.\"\n",
              "              style=\"display:none;\">\n",
              "        \n",
              "  <svg xmlns=\"http://www.w3.org/2000/svg\" height=\"24px\"viewBox=\"0 0 24 24\"\n",
              "       width=\"24px\">\n",
              "    <path d=\"M0 0h24v24H0V0z\" fill=\"none\"/>\n",
              "    <path d=\"M18.56 5.44l.94 2.06.94-2.06 2.06-.94-2.06-.94-.94-2.06-.94 2.06-2.06.94zm-11 1L8.5 8.5l.94-2.06 2.06-.94-2.06-.94L8.5 2.5l-.94 2.06-2.06.94zm10 10l.94 2.06.94-2.06 2.06-.94-2.06-.94-.94-2.06-.94 2.06-2.06.94z\"/><path d=\"M17.41 7.96l-1.37-1.37c-.4-.4-.92-.59-1.43-.59-.52 0-1.04.2-1.43.59L10.3 9.45l-7.72 7.72c-.78.78-.78 2.05 0 2.83L4 21.41c.39.39.9.59 1.41.59.51 0 1.02-.2 1.41-.59l7.78-7.78 2.81-2.81c.8-.78.8-2.07 0-2.86zM5.41 20L4 18.59l7.72-7.72 1.47 1.35L5.41 20z\"/>\n",
              "  </svg>\n",
              "      </button>\n",
              "      \n",
              "  <style>\n",
              "    .colab-df-container {\n",
              "      display:flex;\n",
              "      flex-wrap:wrap;\n",
              "      gap: 12px;\n",
              "    }\n",
              "\n",
              "    .colab-df-convert {\n",
              "      background-color: #E8F0FE;\n",
              "      border: none;\n",
              "      border-radius: 50%;\n",
              "      cursor: pointer;\n",
              "      display: none;\n",
              "      fill: #1967D2;\n",
              "      height: 32px;\n",
              "      padding: 0 0 0 0;\n",
              "      width: 32px;\n",
              "    }\n",
              "\n",
              "    .colab-df-convert:hover {\n",
              "      background-color: #E2EBFA;\n",
              "      box-shadow: 0px 1px 2px rgba(60, 64, 67, 0.3), 0px 1px 3px 1px rgba(60, 64, 67, 0.15);\n",
              "      fill: #174EA6;\n",
              "    }\n",
              "\n",
              "    [theme=dark] .colab-df-convert {\n",
              "      background-color: #3B4455;\n",
              "      fill: #D2E3FC;\n",
              "    }\n",
              "\n",
              "    [theme=dark] .colab-df-convert:hover {\n",
              "      background-color: #434B5C;\n",
              "      box-shadow: 0px 1px 3px 1px rgba(0, 0, 0, 0.15);\n",
              "      filter: drop-shadow(0px 1px 2px rgba(0, 0, 0, 0.3));\n",
              "      fill: #FFFFFF;\n",
              "    }\n",
              "  </style>\n",
              "\n",
              "      <script>\n",
              "        const buttonEl =\n",
              "          document.querySelector('#df-f5e77056-527f-4897-b78b-69d0b64fc8a9 button.colab-df-convert');\n",
              "        buttonEl.style.display =\n",
              "          google.colab.kernel.accessAllowed ? 'block' : 'none';\n",
              "\n",
              "        async function convertToInteractive(key) {\n",
              "          const element = document.querySelector('#df-f5e77056-527f-4897-b78b-69d0b64fc8a9');\n",
              "          const dataTable =\n",
              "            await google.colab.kernel.invokeFunction('convertToInteractive',\n",
              "                                                     [key], {});\n",
              "          if (!dataTable) return;\n",
              "\n",
              "          const docLinkHtml = 'Like what you see? Visit the ' +\n",
              "            '<a target=\"_blank\" href=https://colab.research.google.com/notebooks/data_table.ipynb>data table notebook</a>'\n",
              "            + ' to learn more about interactive tables.';\n",
              "          element.innerHTML = '';\n",
              "          dataTable['output_type'] = 'display_data';\n",
              "          await google.colab.output.renderOutput(dataTable, element);\n",
              "          const docLink = document.createElement('div');\n",
              "          docLink.innerHTML = docLinkHtml;\n",
              "          element.appendChild(docLink);\n",
              "        }\n",
              "      </script>\n",
              "    </div>\n",
              "  </div>\n",
              "  "
            ]
          },
          "metadata": {},
          "execution_count": 9
        }
      ]
    },
    {
      "cell_type": "code",
      "source": [
        "print(Data)"
      ],
      "metadata": {
        "colab": {
          "base_uri": "https://localhost:8080/"
        },
        "id": "ZWMbFNGN2eFi",
        "outputId": "fc45f806-11e5-42dc-fcfc-ab31a14f633a"
      },
      "execution_count": 10,
      "outputs": [
        {
          "output_type": "stream",
          "name": "stdout",
          "text": [
            "      1.687  0.445  Slight-Right-Turn\n",
            "0     1.687  0.449  Slight-Right-Turn\n",
            "1     1.687  0.449  Slight-Right-Turn\n",
            "2     1.687  0.449  Slight-Right-Turn\n",
            "3     1.687  0.449  Slight-Right-Turn\n",
            "4     1.686  0.446  Slight-Right-Turn\n",
            "...     ...    ...                ...\n",
            "5450  1.024  0.657       Move-Forward\n",
            "5451  0.894  0.649   Sharp-Right-Turn\n",
            "5452  0.873  0.642   Sharp-Right-Turn\n",
            "5453  0.967  0.635       Move-Forward\n",
            "5454  0.854  0.628   Sharp-Right-Turn\n",
            "\n",
            "[5455 rows x 3 columns]\n"
          ]
        }
      ]
    },
    {
      "cell_type": "code",
      "source": [
        "print(Data.head())"
      ],
      "metadata": {
        "colab": {
          "base_uri": "https://localhost:8080/"
        },
        "id": "xt-Z-4dt2eMS",
        "outputId": "df34b06e-88e4-47e7-cdf8-ea997cb9286b"
      },
      "execution_count": 11,
      "outputs": [
        {
          "output_type": "stream",
          "name": "stdout",
          "text": [
            "   1.687  0.445  Slight-Right-Turn\n",
            "0  1.687  0.449  Slight-Right-Turn\n",
            "1  1.687  0.449  Slight-Right-Turn\n",
            "2  1.687  0.449  Slight-Right-Turn\n",
            "3  1.687  0.449  Slight-Right-Turn\n",
            "4  1.686  0.446  Slight-Right-Turn\n"
          ]
        }
      ]
    },
    {
      "cell_type": "code",
      "source": [
        "print(Data.columns)"
      ],
      "metadata": {
        "colab": {
          "base_uri": "https://localhost:8080/"
        },
        "id": "6h5MGzeH2eSr",
        "outputId": "0f3bbf59-f300-4e19-fe22-dfc455bfd6ec"
      },
      "execution_count": 12,
      "outputs": [
        {
          "output_type": "stream",
          "name": "stdout",
          "text": [
            "Index(['1.687', '0.445', 'Slight-Right-Turn'], dtype='object')\n"
          ]
        }
      ]
    },
    {
      "cell_type": "code",
      "source": [
        "X = Data.iloc[:,0:2].values"
      ],
      "metadata": {
        "id": "nwMzfIfr3Cnr"
      },
      "execution_count": 13,
      "outputs": []
    },
    {
      "cell_type": "code",
      "source": [
        "media = np.mean(X,axis=0)\n",
        "print(media)"
      ],
      "metadata": {
        "id": "n23ZIuGT3Cvh"
      },
      "execution_count": 15,
      "outputs": []
    },
    {
      "cell_type": "code",
      "source": [
        "desviopadrao = np.std(X,axis=0)\n",
        "print(desviopadrao)"
      ],
      "metadata": {
        "colab": {
          "base_uri": "https://localhost:8080/"
        },
        "id": "0lE0MmXG3Rgo",
        "outputId": "8727de6d-db0a-4186-e8e4-0b7cc44f50ab"
      },
      "execution_count": 17,
      "outputs": [
        {
          "output_type": "stream",
          "name": "stdout",
          "text": [
            "[0.62667654 0.34257929]\n"
          ]
        }
      ]
    },
    {
      "cell_type": "code",
      "source": [
        "fig1, ax1 = plt.subplots()\n",
        "ax1.set_title('Basic Plot')\n",
        "ax1.boxplot(X[:,0])\n",
        "plt.show()"
      ],
      "metadata": {
        "colab": {
          "base_uri": "https://localhost:8080/",
          "height": 281
        },
        "id": "5zQwIRJo3C1x",
        "outputId": "5d71d749-7615-4738-e3e9-b9e5339100f5"
      },
      "execution_count": 18,
      "outputs": [
        {
          "output_type": "display_data",
          "data": {
            "text/plain": [
              "<Figure size 432x288 with 1 Axes>"
            ],
            "image/png": "[encoded data removed]"
          },
          "metadata": {
            "needs_background": "light"
          }
        }
      ]
    },
    {
      "cell_type": "code",
      "source": [
        "# Gerar cores aleatórias\n",
        "colors = np.random.rand(100)\n",
        "\n",
        "# Plotar os pontos com cores diferentes\n",
        "plt.scatter(X[:, 0], X[:, 1], c=colors)\n",
        "plt.show()"
      ],
      "metadata": {
        "colab": {
          "base_uri": "https://localhost:8080/",
          "height": 265
        },
        "id": "isCIwF5H3C7q",
        "outputId": "f5890d80-c014-4c4c-8172-e6beb6b8da02"
      },
      "execution_count": 37,
      "outputs": [
        {
          "output_type": "display_data",
          "data": {
            "text/plain": [
              "<Figure size 432x288 with 1 Axes>"
            ],
            "image/png": "[encoded data removed]"
          },
          "metadata": {
            "needs_background": "light"
          }
        }
      ]
    },
    {
      "cell_type": "code",
      "source": [
        "counts = Data.iloc[:, 2].value_counts()\n",
        "x = counts.index\n",
        "y = counts.values\n",
        "width = 0.5\n",
        "fig, ax = plt.subplots()\n",
        "ax.bar(x, y, width)\n",
        "ax.set_title('Contagem de Valores da Terceira Coluna')\n",
        "ax.set_xlabel('Valor')\n",
        "ax.set_ylabel('Contagem')\n",
        "plt.show()"
      ],
      "metadata": {
        "colab": {
          "base_uri": "https://localhost:8080/",
          "height": 295
        },
        "id": "uCrGwMix3DCL",
        "outputId": "b94a4333-6dc8-4c98-8a7d-fe297950421b"
      },
      "execution_count": 20,
      "outputs": [
        {
          "output_type": "display_data",
          "data": {
            "text/plain": [
              "<Figure size 432x288 with 1 Axes>"
            ],
            "image/png": "[encoded data removed]"
          },
          "metadata": {
            "needs_background": "light"
          }
        }
      ]
    },
    {
      "cell_type": "code",
      "source": [
        "colors = np.random.choice(['Slight-Left-Turn', 'Move-Forward', 'Sharp-Right-Turn', 'Slight-Right-Turn'], size=100)\n",
        "\n",
        "# Definir o mapa de cores\n",
        "color_map = {\n",
        "    'Slight-Left-Turn': 'red',\n",
        "    'Move-Forward': 'green',\n",
        "    'Sharp-Right-Turn': 'blue',\n",
        "    'Slight-Right-Turn': 'yellow'\n",
        "}\n",
        "\n",
        "# Gerar vetor de cores correspondente a cada ponto\n",
        "point_colors = [color_map[color] for color in colors]\n",
        "\n",
        "# Plotar os pontos com cores diferentes\n",
        "plt.scatter(X[:, 0], X[:, 1], c=point_colors)\n",
        "plt.show()\n",
        "\n",
        "\n",
        "\n",
        "\n"
      ],
      "metadata": {
        "colab": {
          "base_uri": "https://localhost:8080/",
          "height": 265
        },
        "id": "dsws7dM43DHd",
        "outputId": "b2e1dabc-c308-4a22-872b-e0c7cb5f042f"
      },
      "execution_count": 34,
      "outputs": [
        {
          "output_type": "display_data",
          "data": {
            "text/plain": [
              "<Figure size 432x288 with 1 Axes>"
            ],
            "image/png": "[encoded data removed]"
          },
          "metadata": {
            "needs_background": "light"
          }
        }
      ]
    },
    {
      "cell_type": "markdown",
      "source": [
        "Esse código plota um gráfico de dispersão dos pontos armazenados em X, onde cada ponto é colorido de acordo com as informações armazenadas no vetor colors.\n",
        "\n",
        "Primeiro, o código define um mapa de cores, que associa uma cor a cada uma das quatro variações de colors. Em seguida, ele gera um novo vetor de cores point_colors, que mapeia cada uma das quatro variações em uma cor correspondente no mapa de cores.\n",
        "\n",
        "Finalmente, a função plt.scatter() é usada para plotar os pontos armazenados em X, passando o vetor point_colors como argumento c, o que faz com que cada ponto seja colorido de acordo com sua variação correspondente em colors. O resultado é um gráfico de dispersão colorido, onde cada cor representa uma das quatro variações possíveis."
      ],
      "metadata": {
        "id": "9k6NmLa--gXQ"
      }
    }
  ]
}